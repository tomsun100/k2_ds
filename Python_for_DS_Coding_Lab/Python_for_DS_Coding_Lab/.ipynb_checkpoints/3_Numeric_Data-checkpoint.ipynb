{
 "cells": [
  {
   "cell_type": "markdown",
   "metadata": {},
   "source": [
    "# Preparing Numeric Data\n",
    "\n",
    "Numeric data tends to be better-behaved than text data. There's only so many symbols that appear in numbers and they have well-defined values. Despite its relative cleanliness, there are variety of preprocessing tasks you should consider before using numeric data. In this lesson, we'll learn some common operations used to prepare numeric data for use in analysis and predictive models."
   ]
  },
  {
   "cell_type": "markdown",
   "metadata": {
    "collapsed": true
   },
   "source": [
    "## Centering and Scaling\n",
    "\n",
    "Numeric variables are often on different scales and cover different ranges, so they can't be easily compared. What's more, variables with large values can dominate those with smaller values when using certain modeling techniques. Centering and scaling is a common preprocessing task that puts numeric variables on a common scale so no single variable will dominate the others.\n",
    "\n",
    "The simplest way to center data is to subtract the mean value from each data point. Subtracting the mean centers the data around zero and sets the new mean to zero. Let's try zero-centering the [mtcars dataset](https://stat.ethz.ch/R-manual/R-devel/library/datasets/html/mtcars.html) that comes with the `ggplot` library:"
   ]
  },
  {
   "cell_type": "code",
   "execution_count": null,
   "metadata": {
    "collapsed": false
   },
   "outputs": [],
   "source": [
    "!pip install ggplot"
   ]
  },
  {
   "cell_type": "code",
   "execution_count": 37,
   "metadata": {
    "collapsed": false
   },
   "outputs": [],
   "source": [
    "%matplotlib inline"
   ]
  },
  {
   "cell_type": "code",
   "execution_count": 38,
   "metadata": {
    "collapsed": true
   },
   "outputs": [],
   "source": [
    "import numpy as np\n",
    "import pandas as pd\n",
    "from ggplot import mtcars"
   ]
  },
  {
   "cell_type": "code",
   "execution_count": 39,
   "metadata": {
    "collapsed": false
   },
   "outputs": [
    {
     "data": {
      "text/html": [
       "<div>\n",
       "<table border=\"1\" class=\"dataframe\">\n",
       "  <thead>\n",
       "    <tr style=\"text-align: right;\">\n",
       "      <th></th>\n",
       "      <th>name</th>\n",
       "      <th>mpg</th>\n",
       "      <th>cyl</th>\n",
       "      <th>disp</th>\n",
       "      <th>hp</th>\n",
       "      <th>drat</th>\n",
       "      <th>wt</th>\n",
       "      <th>qsec</th>\n",
       "      <th>vs</th>\n",
       "      <th>am</th>\n",
       "      <th>gear</th>\n",
       "      <th>carb</th>\n",
       "    </tr>\n",
       "  </thead>\n",
       "  <tbody>\n",
       "    <tr>\n",
       "      <th>0</th>\n",
       "      <td>Mazda RX4</td>\n",
       "      <td>21.0</td>\n",
       "      <td>6</td>\n",
       "      <td>160.0</td>\n",
       "      <td>110</td>\n",
       "      <td>3.90</td>\n",
       "      <td>2.620</td>\n",
       "      <td>16.46</td>\n",
       "      <td>0</td>\n",
       "      <td>1</td>\n",
       "      <td>4</td>\n",
       "      <td>4</td>\n",
       "    </tr>\n",
       "    <tr>\n",
       "      <th>1</th>\n",
       "      <td>Mazda RX4 Wag</td>\n",
       "      <td>21.0</td>\n",
       "      <td>6</td>\n",
       "      <td>160.0</td>\n",
       "      <td>110</td>\n",
       "      <td>3.90</td>\n",
       "      <td>2.875</td>\n",
       "      <td>17.02</td>\n",
       "      <td>0</td>\n",
       "      <td>1</td>\n",
       "      <td>4</td>\n",
       "      <td>4</td>\n",
       "    </tr>\n",
       "    <tr>\n",
       "      <th>2</th>\n",
       "      <td>Datsun 710</td>\n",
       "      <td>22.8</td>\n",
       "      <td>4</td>\n",
       "      <td>108.0</td>\n",
       "      <td>93</td>\n",
       "      <td>3.85</td>\n",
       "      <td>2.320</td>\n",
       "      <td>18.61</td>\n",
       "      <td>1</td>\n",
       "      <td>1</td>\n",
       "      <td>4</td>\n",
       "      <td>1</td>\n",
       "    </tr>\n",
       "    <tr>\n",
       "      <th>3</th>\n",
       "      <td>Hornet 4 Drive</td>\n",
       "      <td>21.4</td>\n",
       "      <td>6</td>\n",
       "      <td>258.0</td>\n",
       "      <td>110</td>\n",
       "      <td>3.08</td>\n",
       "      <td>3.215</td>\n",
       "      <td>19.44</td>\n",
       "      <td>1</td>\n",
       "      <td>0</td>\n",
       "      <td>3</td>\n",
       "      <td>1</td>\n",
       "    </tr>\n",
       "    <tr>\n",
       "      <th>4</th>\n",
       "      <td>Hornet Sportabout</td>\n",
       "      <td>18.7</td>\n",
       "      <td>8</td>\n",
       "      <td>360.0</td>\n",
       "      <td>175</td>\n",
       "      <td>3.15</td>\n",
       "      <td>3.440</td>\n",
       "      <td>17.02</td>\n",
       "      <td>0</td>\n",
       "      <td>0</td>\n",
       "      <td>3</td>\n",
       "      <td>2</td>\n",
       "    </tr>\n",
       "  </tbody>\n",
       "</table>\n",
       "</div>"
      ],
      "text/plain": [
       "                name   mpg  cyl   disp   hp  drat     wt   qsec  vs  am  gear  \\\n",
       "0          Mazda RX4  21.0    6  160.0  110  3.90  2.620  16.46   0   1     4   \n",
       "1      Mazda RX4 Wag  21.0    6  160.0  110  3.90  2.875  17.02   0   1     4   \n",
       "2         Datsun 710  22.8    4  108.0   93  3.85  2.320  18.61   1   1     4   \n",
       "3     Hornet 4 Drive  21.4    6  258.0  110  3.08  3.215  19.44   1   0     3   \n",
       "4  Hornet Sportabout  18.7    8  360.0  175  3.15  3.440  17.02   0   0     3   \n",
       "\n",
       "   carb  \n",
       "0     4  \n",
       "1     4  \n",
       "2     1  \n",
       "3     1  \n",
       "4     2  "
      ]
     },
     "execution_count": 39,
     "metadata": {},
     "output_type": "execute_result"
    }
   ],
   "source": [
    "mtcars.head()"
   ]
  },
  {
   "cell_type": "code",
   "execution_count": 40,
   "metadata": {
    "collapsed": false
   },
   "outputs": [],
   "source": [
    "mtcars = mtcars[mtcars['mpg'].notnull()] # remove None rows"
   ]
  },
  {
   "cell_type": "code",
   "execution_count": 41,
   "metadata": {
    "collapsed": false
   },
   "outputs": [
    {
     "name": "stdout",
     "output_type": "stream",
     "text": [
      "                    mpg  cyl   disp   hp  drat     wt   qsec  vs  am  gear  \\\n",
      "name                                                                         \n",
      "Mazda RX4          21.0    6  160.0  110  3.90  2.620  16.46   0   1     4   \n",
      "Mazda RX4 Wag      21.0    6  160.0  110  3.90  2.875  17.02   0   1     4   \n",
      "Datsun 710         22.8    4  108.0   93  3.85  2.320  18.61   1   1     4   \n",
      "Hornet 4 Drive     21.4    6  258.0  110  3.08  3.215  19.44   1   0     3   \n",
      "Hornet Sportabout  18.7    8  360.0  175  3.15  3.440  17.02   0   0     3   \n",
      "\n",
      "                   carb  \n",
      "name                     \n",
      "Mazda RX4             4  \n",
      "Mazda RX4 Wag         4  \n",
      "Datsun 710            1  \n",
      "Hornet 4 Drive        1  \n",
      "Hornet Sportabout     2  \n"
     ]
    }
   ],
   "source": [
    "mtcars = mtcars.set_index('name')\n",
    "print(mtcars.head())"
   ]
  },
  {
   "cell_type": "markdown",
   "metadata": {},
   "source": [
    "We can apply a lambda function to every numerical column in the `DataFrame`."
   ]
  },
  {
   "cell_type": "code",
   "execution_count": 42,
   "metadata": {
    "collapsed": false
   },
   "outputs": [
    {
     "data": {
      "text/html": [
       "<div>\n",
       "<table border=\"1\" class=\"dataframe\">\n",
       "  <thead>\n",
       "    <tr style=\"text-align: right;\">\n",
       "      <th></th>\n",
       "      <th>mpg</th>\n",
       "      <th>cyl</th>\n",
       "      <th>disp</th>\n",
       "      <th>hp</th>\n",
       "      <th>drat</th>\n",
       "      <th>wt</th>\n",
       "      <th>qsec</th>\n",
       "      <th>vs</th>\n",
       "      <th>am</th>\n",
       "      <th>gear</th>\n",
       "      <th>carb</th>\n",
       "    </tr>\n",
       "  </thead>\n",
       "  <tbody>\n",
       "    <tr>\n",
       "      <th>count</th>\n",
       "      <td>3.200000e+01</td>\n",
       "      <td>32.000000</td>\n",
       "      <td>3.200000e+01</td>\n",
       "      <td>32.000000</td>\n",
       "      <td>3.200000e+01</td>\n",
       "      <td>3.200000e+01</td>\n",
       "      <td>3.200000e+01</td>\n",
       "      <td>32.000000</td>\n",
       "      <td>32.000000</td>\n",
       "      <td>32.000000</td>\n",
       "      <td>32.0000</td>\n",
       "    </tr>\n",
       "    <tr>\n",
       "      <th>mean</th>\n",
       "      <td>3.996803e-15</td>\n",
       "      <td>0.000000</td>\n",
       "      <td>-3.907985e-14</td>\n",
       "      <td>0.000000</td>\n",
       "      <td>-5.967449e-16</td>\n",
       "      <td>4.787837e-16</td>\n",
       "      <td>-2.609024e-15</td>\n",
       "      <td>0.000000</td>\n",
       "      <td>0.000000</td>\n",
       "      <td>0.000000</td>\n",
       "      <td>0.0000</td>\n",
       "    </tr>\n",
       "    <tr>\n",
       "      <th>std</th>\n",
       "      <td>6.026948e+00</td>\n",
       "      <td>1.785922</td>\n",
       "      <td>1.239387e+02</td>\n",
       "      <td>68.562868</td>\n",
       "      <td>5.346787e-01</td>\n",
       "      <td>9.784574e-01</td>\n",
       "      <td>1.786943e+00</td>\n",
       "      <td>0.504016</td>\n",
       "      <td>0.498991</td>\n",
       "      <td>0.737804</td>\n",
       "      <td>1.6152</td>\n",
       "    </tr>\n",
       "    <tr>\n",
       "      <th>min</th>\n",
       "      <td>-9.690625e+00</td>\n",
       "      <td>-2.187500</td>\n",
       "      <td>-1.596219e+02</td>\n",
       "      <td>-94.687500</td>\n",
       "      <td>-8.365625e-01</td>\n",
       "      <td>-1.704250e+00</td>\n",
       "      <td>-3.348750e+00</td>\n",
       "      <td>-0.437500</td>\n",
       "      <td>-0.406250</td>\n",
       "      <td>-0.687500</td>\n",
       "      <td>-1.8125</td>\n",
       "    </tr>\n",
       "    <tr>\n",
       "      <th>25%</th>\n",
       "      <td>-4.665625e+00</td>\n",
       "      <td>-2.187500</td>\n",
       "      <td>-1.098969e+02</td>\n",
       "      <td>-50.187500</td>\n",
       "      <td>-5.165625e-01</td>\n",
       "      <td>-6.360000e-01</td>\n",
       "      <td>-9.562500e-01</td>\n",
       "      <td>-0.437500</td>\n",
       "      <td>-0.406250</td>\n",
       "      <td>-0.687500</td>\n",
       "      <td>-0.8125</td>\n",
       "    </tr>\n",
       "    <tr>\n",
       "      <th>50%</th>\n",
       "      <td>-8.906250e-01</td>\n",
       "      <td>-0.187500</td>\n",
       "      <td>-3.442188e+01</td>\n",
       "      <td>-23.687500</td>\n",
       "      <td>9.843750e-02</td>\n",
       "      <td>1.077500e-01</td>\n",
       "      <td>-1.387500e-01</td>\n",
       "      <td>-0.437500</td>\n",
       "      <td>-0.406250</td>\n",
       "      <td>0.312500</td>\n",
       "      <td>-0.8125</td>\n",
       "    </tr>\n",
       "    <tr>\n",
       "      <th>75%</th>\n",
       "      <td>2.709375e+00</td>\n",
       "      <td>1.812500</td>\n",
       "      <td>9.527812e+01</td>\n",
       "      <td>33.312500</td>\n",
       "      <td>3.234375e-01</td>\n",
       "      <td>3.927500e-01</td>\n",
       "      <td>1.051250e+00</td>\n",
       "      <td>0.562500</td>\n",
       "      <td>0.593750</td>\n",
       "      <td>0.312500</td>\n",
       "      <td>1.1875</td>\n",
       "    </tr>\n",
       "    <tr>\n",
       "      <th>max</th>\n",
       "      <td>1.380938e+01</td>\n",
       "      <td>1.812500</td>\n",
       "      <td>2.412781e+02</td>\n",
       "      <td>188.312500</td>\n",
       "      <td>1.333437e+00</td>\n",
       "      <td>2.206750e+00</td>\n",
       "      <td>5.051250e+00</td>\n",
       "      <td>0.562500</td>\n",
       "      <td>0.593750</td>\n",
       "      <td>1.312500</td>\n",
       "      <td>5.1875</td>\n",
       "    </tr>\n",
       "  </tbody>\n",
       "</table>\n",
       "</div>"
      ],
      "text/plain": [
       "                mpg        cyl          disp          hp          drat  \\\n",
       "count  3.200000e+01  32.000000  3.200000e+01   32.000000  3.200000e+01   \n",
       "mean   3.996803e-15   0.000000 -3.907985e-14    0.000000 -5.967449e-16   \n",
       "std    6.026948e+00   1.785922  1.239387e+02   68.562868  5.346787e-01   \n",
       "min   -9.690625e+00  -2.187500 -1.596219e+02  -94.687500 -8.365625e-01   \n",
       "25%   -4.665625e+00  -2.187500 -1.098969e+02  -50.187500 -5.165625e-01   \n",
       "50%   -8.906250e-01  -0.187500 -3.442188e+01  -23.687500  9.843750e-02   \n",
       "75%    2.709375e+00   1.812500  9.527812e+01   33.312500  3.234375e-01   \n",
       "max    1.380938e+01   1.812500  2.412781e+02  188.312500  1.333437e+00   \n",
       "\n",
       "                 wt          qsec         vs         am       gear     carb  \n",
       "count  3.200000e+01  3.200000e+01  32.000000  32.000000  32.000000  32.0000  \n",
       "mean   4.787837e-16 -2.609024e-15   0.000000   0.000000   0.000000   0.0000  \n",
       "std    9.784574e-01  1.786943e+00   0.504016   0.498991   0.737804   1.6152  \n",
       "min   -1.704250e+00 -3.348750e+00  -0.437500  -0.406250  -0.687500  -1.8125  \n",
       "25%   -6.360000e-01 -9.562500e-01  -0.437500  -0.406250  -0.687500  -0.8125  \n",
       "50%    1.077500e-01 -1.387500e-01  -0.437500  -0.406250   0.312500  -0.8125  \n",
       "75%    3.927500e-01  1.051250e+00   0.562500   0.593750   0.312500   1.1875  \n",
       "max    2.206750e+00  5.051250e+00   0.562500   0.593750   1.312500   5.1875  "
      ]
     },
     "execution_count": 42,
     "metadata": {},
     "output_type": "execute_result"
    }
   ],
   "source": [
    "centered = mtcars.apply(lambda x: x - x.mean())\n",
    "\n",
    "centered.describe()"
   ]
  },
  {
   "cell_type": "code",
   "execution_count": 43,
   "metadata": {
    "collapsed": false,
    "scrolled": true
   },
   "outputs": [
    {
     "name": "stdout",
     "output_type": "stream",
     "text": [
      "                mpg           cyl          disp            hp          drat  \\\n",
      "count  3.200000e+01  3.200000e+01  3.200000e+01  3.200000e+01  3.200000e+01   \n",
      "mean   6.678685e-16 -6.938894e-18 -2.949030e-16 -2.428613e-17 -1.113692e-15   \n",
      "std    1.000000e+00  1.000000e+00  1.000000e+00  1.000000e+00  1.000000e+00   \n",
      "min   -1.607883e+00 -1.224858e+00 -1.287910e+00 -1.381032e+00 -1.564608e+00   \n",
      "25%   -7.741273e-01 -1.224858e+00 -8.867035e-01 -7.319924e-01 -9.661175e-01   \n",
      "50%   -1.477738e-01 -1.049878e-01 -2.777331e-01 -3.454858e-01  1.841059e-01   \n",
      "75%    4.495434e-01  1.014882e+00  7.687521e-01  4.858679e-01  6.049193e-01   \n",
      "max    2.291272e+00  1.014882e+00  1.946754e+00  2.746567e+00  2.493904e+00   \n",
      "\n",
      "                 wt          qsec            vs            am          gear  \\\n",
      "count  3.200000e+01  3.200000e+01  3.200000e+01  3.200000e+01  3.200000e+01   \n",
      "mean   4.909267e-16 -1.465841e-15  1.387779e-17  8.326673e-17 -5.030698e-17   \n",
      "std    1.000000e+00  1.000000e+00  1.000000e+00  1.000000e+00  1.000000e+00   \n",
      "min   -1.741772e+00 -1.874010e+00 -8.680278e-01 -8.141431e-01 -9.318192e-01   \n",
      "25%   -6.500027e-01 -5.351317e-01 -8.680278e-01 -8.141431e-01 -9.318192e-01   \n",
      "50%    1.101223e-01 -7.764656e-02 -8.680278e-01 -8.141431e-01  4.235542e-01   \n",
      "75%    4.013971e-01  5.882951e-01  1.116036e+00  1.189901e+00  4.235542e-01   \n",
      "max    2.255336e+00  2.826755e+00  1.116036e+00  1.189901e+00  1.778928e+00   \n",
      "\n",
      "               carb  \n",
      "count  3.200000e+01  \n",
      "mean   1.387779e-17  \n",
      "std    1.000000e+00  \n",
      "min   -1.122152e+00  \n",
      "25%   -5.030337e-01  \n",
      "50%   -5.030337e-01  \n",
      "75%    7.352031e-01  \n",
      "max    3.211677e+00  \n"
     ]
    }
   ],
   "source": [
    "column_deviations = mtcars.std(axis='rows')   # Get standard deviations by feature\n",
    "\n",
    "centered_and_scaled = centered/column_deviations \n",
    "\n",
    "print(centered_and_scaled.describe())"
   ]
  },
  {
   "cell_type": "markdown",
   "metadata": {},
   "source": [
    "Notice that after dividing by the standard deviation, every variable now has a standard deviation of 1. At this point, all the columns have roughly the same mean and scale of spread about the mean.\n",
    "\n",
    "Manually centering and scaling as we've done is a good exercise, but it is often possible to perform common data preprocessing automatically using functions built into Python libraries. The Python library `scikit-learn`, a popular package for predictive modeling and data analysis, has preprocessing tools including a `scale()` function for centering and scaling data:"
   ]
  },
  {
   "cell_type": "code",
   "execution_count": 44,
   "metadata": {
    "collapsed": true
   },
   "outputs": [],
   "source": [
    "from sklearn import preprocessing"
   ]
  },
  {
   "cell_type": "code",
   "execution_count": 45,
   "metadata": {
    "collapsed": false
   },
   "outputs": [
    {
     "name": "stdout",
     "output_type": "stream",
     "text": [
      "                mpg           cyl          disp            hp          drat  \\\n",
      "count  3.200000e+01  3.200000e+01  3.200000e+01  3.200000e+01  3.200000e+01   \n",
      "mean  -5.481726e-16  4.163336e-17  1.387779e-16 -1.734723e-17 -3.122502e-16   \n",
      "std    1.016001e+00  1.016001e+00  1.016001e+00  1.016001e+00  1.016001e+00   \n",
      "min   -1.633610e+00 -1.244457e+00 -1.308518e+00 -1.403130e+00 -1.589643e+00   \n",
      "25%   -7.865141e-01 -1.244457e+00 -9.008917e-01 -7.437050e-01 -9.815764e-01   \n",
      "50%   -1.501383e-01 -1.066677e-01 -2.821771e-01 -3.510140e-01  1.870518e-01   \n",
      "75%    4.567366e-01  1.031121e+00  7.810529e-01  4.936423e-01  6.145986e-01   \n",
      "max    2.327934e+00  1.031121e+00  1.977904e+00  2.790515e+00  2.533809e+00   \n",
      "\n",
      "                 wt          qsec            vs            am          gear  \\\n",
      "count  3.200000e+01  3.200000e+01  3.200000e+01  3.200000e+01  3.200000e+01   \n",
      "mean   4.683753e-17 -1.469311e-15 -6.938894e-18  5.551115e-17 -1.144917e-16   \n",
      "std    1.016001e+00  1.016001e+00  1.016001e+00  1.016001e+00  1.016001e+00   \n",
      "min   -1.769642e+00 -1.903996e+00 -8.819171e-01 -8.271702e-01 -9.467293e-01   \n",
      "25%   -6.604034e-01 -5.436944e-01 -8.819171e-01 -8.271702e-01 -9.467293e-01   \n",
      "50%    1.118844e-01 -7.888899e-02 -8.819171e-01 -8.271702e-01  4.303315e-01   \n",
      "75%    4.078199e-01  5.977084e-01  1.133893e+00  1.208941e+00  4.303315e-01   \n",
      "max    2.291423e+00  2.871986e+00  1.133893e+00  1.208941e+00  1.807392e+00   \n",
      "\n",
      "               carb  \n",
      "count  3.200000e+01  \n",
      "mean  -6.938894e-18  \n",
      "std    1.016001e+00  \n",
      "min   -1.140108e+00  \n",
      "25%   -5.110827e-01  \n",
      "50%   -5.110827e-01  \n",
      "75%    7.469671e-01  \n",
      "max    3.263067e+00  \n"
     ]
    }
   ],
   "source": [
    "scaled_data = preprocessing.scale(mtcars)  # Scale the data*\n",
    " \n",
    "scaled_cars = pd.DataFrame(scaled_data,    # Remake the DataFrame\n",
    "                           index=mtcars.index,\n",
    "                           columns=mtcars.columns)\n",
    "\n",
    "print(scaled_cars.describe() )"
   ]
  },
  {
   "cell_type": "markdown",
   "metadata": {},
   "source": [
    "*Note: `preprocessing.scale()` returns `ndarrays` so we have to convert it back into a `DataFrame`.*\n",
    "    \n",
    "Notice that the values are almost the same as those we calculated manually but not exactly the same. These small differences are likely due to rounding and details of the `scikit-learn` implementation of centering and scaling."
   ]
  },
  {
   "cell_type": "markdown",
   "metadata": {},
   "source": [
    "## Dealing With Skewed Data\n",
    "\n",
    "The distribution of data — its overall shape and how it is spread out — can have a significant impact on analysis and modeling. Data that is roughly evenly spread around the mean value — known as normally distributed data — tends to be well-behaved. On the other hand, some data sets exhibit significant skewness or asymmetry. To illustrate, let's generate a few distributions"
   ]
  },
  {
   "cell_type": "code",
   "execution_count": 46,
   "metadata": {
    "collapsed": false
   },
   "outputs": [
    {
     "data": {
      "text/plain": [
       "array([[<matplotlib.axes._subplots.AxesSubplot object at 0x11e5c0a90>]], dtype=object)"
      ]
     },
     "execution_count": 46,
     "metadata": {},
     "output_type": "execute_result"
    },
    {
     "data": {
      "image/png": "[encoded data removed]",
      "text/plain": [
       "<matplotlib.figure.Figure at 0x10486ee80>"
      ]
     },
     "metadata": {},
     "output_type": "display_data"
    }
   ],
   "source": [
    "normally_distributed = np.random.normal(size=10000)  # Generate normal data\n",
    "\n",
    "normally_distributed = pd.DataFrame(normally_distributed) # Convert to DF\n",
    "\n",
    "normally_distributed.hist(figsize=(8,8),                  # Plot histogram\n",
    "                          bins=30)                               "
   ]
  },
  {
   "cell_type": "markdown",
   "metadata": {},
   "source": [
    "   \n",
    "Notice how the normally distributed data looks roughly symmetric with a bell-shaped curve. Now let's generate some skewed data:"
   ]
  },
  {
   "cell_type": "code",
   "execution_count": 47,
   "metadata": {
    "collapsed": false
   },
   "outputs": [
    {
     "data": {
      "text/plain": [
       "array([[<matplotlib.axes._subplots.AxesSubplot object at 0x11ed15da0>]], dtype=object)"
      ]
     },
     "execution_count": 47,
     "metadata": {},
     "output_type": "execute_result"
    },
    {
     "data": {
      "image/png": "[encoded data removed]",
      "text/plain": [
       "<matplotlib.figure.Figure at 0x11ecf5860>"
      ]
     },
     "metadata": {},
     "output_type": "display_data"
    }
   ],
   "source": [
    "skewed = np.random.exponential(scale=2,      # Generate skewed data\n",
    "                               size= 10000)  \n",
    "\n",
    "skewed = pd.DataFrame(skewed)                # Convert to DF\n",
    "\n",
    "skewed.hist(figsize=(8,8),                   # Plot histogram\n",
    "            bins=50)                               "
   ]
  },
  {
   "cell_type": "markdown",
   "metadata": {},
   "source": [
    "Data with a long tail that goes off to the right is called positively skewed or right skewed. When you have a skewed distribution like the one above, the extreme values in the long tail can have a disproportionately large influence on whatever test you perform or models you build. Reducing skew may improve your results. Taking the square root of each data point or taking the natural logarithm of each data point are two simple transformations that can reduce skew. Let's see their effects on the skewed data:"
   ]
  },
  {
   "cell_type": "code",
   "execution_count": 48,
   "metadata": {
    "collapsed": false
   },
   "outputs": [
    {
     "data": {
      "text/plain": [
       "array([[<matplotlib.axes._subplots.AxesSubplot object at 0x11eda7be0>]], dtype=object)"
      ]
     },
     "execution_count": 48,
     "metadata": {},
     "output_type": "execute_result"
    },
    {
     "data": {
      "image/png": "[encoded data removed]",
      "text/plain": [
       "<matplotlib.figure.Figure at 0x11eda35c0>"
      ]
     },
     "metadata": {},
     "output_type": "display_data"
    }
   ],
   "source": [
    "sqrt_transformed = skewed.apply(np.sqrt) # Get the square root of data points*\n",
    "\n",
    "sqrt_transformed.hist(figsize=(8,8),     # Plot histogram\n",
    "                 bins=50)                 "
   ]
  },
  {
   "cell_type": "markdown",
   "metadata": {},
   "source": [
    "*Note: The `df.apply()` function applies a given function to each row or column of the `DataFrame`. In this case we pass in `np.sqrt` to get the square root of each value.*\n",
    "\n",
    "Now let's look at a log transformation:"
   ]
  },
  {
   "cell_type": "code",
   "execution_count": 49,
   "metadata": {
    "collapsed": false
   },
   "outputs": [
    {
     "data": {
      "text/plain": [
       "array([[<matplotlib.axes._subplots.AxesSubplot object at 0x11f33d8d0>]], dtype=object)"
      ]
     },
     "execution_count": 49,
     "metadata": {},
     "output_type": "execute_result"
    },
    {
     "data": {
      "image/png": "[encoded data removed]",
      "text/plain": [
       "<matplotlib.figure.Figure at 0x11f346be0>"
      ]
     },
     "metadata": {},
     "output_type": "display_data"
    }
   ],
   "source": [
    "log_transformed = (skewed+1).apply(np.log)   # Get the log of the data*\n",
    "\n",
    "log_transformed.hist(figsize = (8,8),          # Plot histogram\n",
    "                 bins=50)                 "
   ]
  },
  {
   "cell_type": "markdown",
   "metadata": {},
   "source": [
    "*Note: Adding 1 before taking the log ensures we don't end up with negative values. Also note that neither of these transformations work on data containing negative values. To make them work on data with negative values add a constant to each value that is large enough to make all the data greater than or equal to 1 (such as adding the absolute value of the smallest number +1)*\n",
    "\n",
    "Both the `sqrt()` and `log()` transforms reduced the skew of the data. It's still not quite normally distributed, but the amount of extreme data in the tails has been reduced to the point where we might not be so worried about it having a large influence on our results."
   ]
  },
  {
   "cell_type": "markdown",
   "metadata": {},
   "source": [
    "## Highly Correlated Variables\n",
    "\n",
    "In predictive modeling, each variable you use to construct a model would ideally represent some unique feature of the data. In other words, you want each variable to tell you something different. In reality, variables often exhibit collinearity — a strong correlation or tendency to move together, typically due to some underlying similarity or common influencing factor. Variables with strong correlations can interfere with one another when performing modeling and muddy results.\n",
    "\n",
    "You can check the pairwise correlations between numeric variables using the `df.corr()` function:"
   ]
  },
  {
   "cell_type": "code",
   "execution_count": 50,
   "metadata": {
    "collapsed": false
   },
   "outputs": [
    {
     "data": {
      "text/html": [
       "<div>\n",
       "<table border=\"1\" class=\"dataframe\">\n",
       "  <thead>\n",
       "    <tr style=\"text-align: right;\">\n",
       "      <th></th>\n",
       "      <th>mpg</th>\n",
       "      <th>cyl</th>\n",
       "      <th>disp</th>\n",
       "      <th>hp</th>\n",
       "      <th>drat</th>\n",
       "      <th>wt</th>\n",
       "    </tr>\n",
       "  </thead>\n",
       "  <tbody>\n",
       "    <tr>\n",
       "      <th>mpg</th>\n",
       "      <td>1.000000</td>\n",
       "      <td>-0.852162</td>\n",
       "      <td>-0.847551</td>\n",
       "      <td>-0.776168</td>\n",
       "      <td>0.681172</td>\n",
       "      <td>-0.867659</td>\n",
       "    </tr>\n",
       "    <tr>\n",
       "      <th>cyl</th>\n",
       "      <td>-0.852162</td>\n",
       "      <td>1.000000</td>\n",
       "      <td>0.902033</td>\n",
       "      <td>0.832447</td>\n",
       "      <td>-0.699938</td>\n",
       "      <td>0.782496</td>\n",
       "    </tr>\n",
       "    <tr>\n",
       "      <th>disp</th>\n",
       "      <td>-0.847551</td>\n",
       "      <td>0.902033</td>\n",
       "      <td>1.000000</td>\n",
       "      <td>0.790949</td>\n",
       "      <td>-0.710214</td>\n",
       "      <td>0.887980</td>\n",
       "    </tr>\n",
       "    <tr>\n",
       "      <th>hp</th>\n",
       "      <td>-0.776168</td>\n",
       "      <td>0.832447</td>\n",
       "      <td>0.790949</td>\n",
       "      <td>1.000000</td>\n",
       "      <td>-0.448759</td>\n",
       "      <td>0.658748</td>\n",
       "    </tr>\n",
       "    <tr>\n",
       "      <th>drat</th>\n",
       "      <td>0.681172</td>\n",
       "      <td>-0.699938</td>\n",
       "      <td>-0.710214</td>\n",
       "      <td>-0.448759</td>\n",
       "      <td>1.000000</td>\n",
       "      <td>-0.712441</td>\n",
       "    </tr>\n",
       "    <tr>\n",
       "      <th>wt</th>\n",
       "      <td>-0.867659</td>\n",
       "      <td>0.782496</td>\n",
       "      <td>0.887980</td>\n",
       "      <td>0.658748</td>\n",
       "      <td>-0.712441</td>\n",
       "      <td>1.000000</td>\n",
       "    </tr>\n",
       "  </tbody>\n",
       "</table>\n",
       "</div>"
      ],
      "text/plain": [
       "           mpg       cyl      disp        hp      drat        wt\n",
       "mpg   1.000000 -0.852162 -0.847551 -0.776168  0.681172 -0.867659\n",
       "cyl  -0.852162  1.000000  0.902033  0.832447 -0.699938  0.782496\n",
       "disp -0.847551  0.902033  1.000000  0.790949 -0.710214  0.887980\n",
       "hp   -0.776168  0.832447  0.790949  1.000000 -0.448759  0.658748\n",
       "drat  0.681172 -0.699938 -0.710214 -0.448759  1.000000 -0.712441\n",
       "wt   -0.867659  0.782496  0.887980  0.658748 -0.712441  1.000000"
      ]
     },
     "execution_count": 50,
     "metadata": {},
     "output_type": "execute_result"
    }
   ],
   "source": [
    "mtcars.ix[:,0:6].corr()   # Check the pairwise correlations of 6 variables"
   ]
  },
  {
   "cell_type": "markdown",
   "metadata": {},
   "source": [
    "A positive correlation implies that when one variable goes up the other tends to go up as well. Negative correlations indicate an inverse relationship: when one variable goes up the other tends to go down. A correlation near zero indicates low correlation while a correlation near -1 or 1 indicates a large negative or positive correlation.\n",
    "\n",
    "Inspecting the data table, we see that the number of cylinders a car has (`cyl`) and its weight (`wt`) have fairly strong negative correlations to gas mileage (`mpg.`). This indicates that heavier cars and cars with more cylinders tend to get lower gas mileage.\n",
    "\n",
    "A scatter plot matrix can be a helpful visual aide for inspecting collinearity. We can create one with the pandas `scatter_matrix()` function located in the `tools.plotting` pandas module:"
   ]
  },
  {
   "cell_type": "code",
   "execution_count": 51,
   "metadata": {
    "collapsed": true
   },
   "outputs": [],
   "source": [
    "from pandas.tools.plotting import scatter_matrix"
   ]
  },
  {
   "cell_type": "code",
   "execution_count": 52,
   "metadata": {
    "collapsed": false
   },
   "outputs": [
    {
     "data": {
      "text/plain": [
       "array([[<matplotlib.axes._subplots.AxesSubplot object at 0x11f5f6208>,\n",
       "        <matplotlib.axes._subplots.AxesSubplot object at 0x11f6902e8>,\n",
       "        <matplotlib.axes._subplots.AxesSubplot object at 0x11fb00eb8>,\n",
       "        <matplotlib.axes._subplots.AxesSubplot object at 0x11fb40898>,\n",
       "        <matplotlib.axes._subplots.AxesSubplot object at 0x11fb8f2b0>,\n",
       "        <matplotlib.axes._subplots.AxesSubplot object at 0x11fbcc400>],\n",
       "       [<matplotlib.axes._subplots.AxesSubplot object at 0x11fc14fd0>,\n",
       "        <matplotlib.axes._subplots.AxesSubplot object at 0x11fc50f28>,\n",
       "        <matplotlib.axes._subplots.AxesSubplot object at 0x11fc9e0b8>,\n",
       "        <matplotlib.axes._subplots.AxesSubplot object at 0x11fcd6d68>,\n",
       "        <matplotlib.axes._subplots.AxesSubplot object at 0x11fd22f98>,\n",
       "        <matplotlib.axes._subplots.AxesSubplot object at 0x11fd744a8>],\n",
       "       [<matplotlib.axes._subplots.AxesSubplot object at 0x11fdaebe0>,\n",
       "        <matplotlib.axes._subplots.AxesSubplot object at 0x11fdfc6d8>,\n",
       "        <matplotlib.axes._subplots.AxesSubplot object at 0x120038c18>,\n",
       "        <matplotlib.axes._subplots.AxesSubplot object at 0x120087828>,\n",
       "        <matplotlib.axes._subplots.AxesSubplot object at 0x1200c4860>,\n",
       "        <matplotlib.axes._subplots.AxesSubplot object at 0x12010e7b8>],\n",
       "       [<matplotlib.axes._subplots.AxesSubplot object at 0x12014e6a0>,\n",
       "        <matplotlib.axes._subplots.AxesSubplot object at 0x1201988d0>,\n",
       "        <matplotlib.axes._subplots.AxesSubplot object at 0x1201e0cc0>,\n",
       "        <matplotlib.axes._subplots.AxesSubplot object at 0x120322550>,\n",
       "        <matplotlib.axes._subplots.AxesSubplot object at 0x12036ab38>,\n",
       "        <matplotlib.axes._subplots.AxesSubplot object at 0x1203ad550>],\n",
       "       [<matplotlib.axes._subplots.AxesSubplot object at 0x1203fd048>,\n",
       "        <matplotlib.axes._subplots.AxesSubplot object at 0x11edd6ac8>,\n",
       "        <matplotlib.axes._subplots.AxesSubplot object at 0x1204687b8>,\n",
       "        <matplotlib.axes._subplots.AxesSubplot object at 0x120473978>,\n",
       "        <matplotlib.axes._subplots.AxesSubplot object at 0x1204f2400>,\n",
       "        <matplotlib.axes._subplots.AxesSubplot object at 0x12063cdd8>],\n",
       "       [<matplotlib.axes._subplots.AxesSubplot object at 0x12067b630>,\n",
       "        <matplotlib.axes._subplots.AxesSubplot object at 0x1206cb048>,\n",
       "        <matplotlib.axes._subplots.AxesSubplot object at 0x120706358>,\n",
       "        <matplotlib.axes._subplots.AxesSubplot object at 0x12074ff28>,\n",
       "        <matplotlib.axes._subplots.AxesSubplot object at 0x12078bf60>,\n",
       "        <matplotlib.axes._subplots.AxesSubplot object at 0x1207dc0f0>]], dtype=object)"
      ]
     },
     "execution_count": 52,
     "metadata": {},
     "output_type": "execute_result"
    },
    {
     "data": {
      "image/png": "[encoded data removed]",
      "text/plain": [
       "<matplotlib.figure.Figure at 0x11f5c24a8>"
      ]
     },
     "metadata": {},
     "output_type": "display_data"
    }
   ],
   "source": [
    "scatter_matrix(mtcars.ix[:,0:6],   # Make a scatter matrix of 6 columns\n",
    "               figsize=(10, 10),   # Set plot size\n",
    "               diagonal='kde')     # Show distribution estimates on diagonal"
   ]
  },
  {
   "cell_type": "markdown",
   "metadata": {},
   "source": [
    "A scatter plot matrix creates pairwise scatter plots that let you visually inspect the relationships between pairs of variables. It can also help identify oddities in the data, such as variables like cyl that only take on values in a small discrete set.\n",
    "\n",
    "If you find highly correlated variables, there are a few things you can do including:\n",
    "\n",
    "1. Leave them be\n",
    "2. Remove one or more variables\n",
    "3. Combine them in some way\n",
    "\n",
    "Reducing the number of variables under consideration, either by removing some or by combining them some way is known as \"dimensionality reduction.\" How you choose to handle correlated variables is ultimately a subjective decision that should be informed by your goal."
   ]
  },
  {
   "cell_type": "markdown",
   "metadata": {},
   "source": [
    "## Imputing with Sklearn\n",
    "\n",
    "In the lesson on initial data exploration, we explored Titanic survivor data and found that several passengers had missing listed for age. Missing values in numeric data are troublesome because you can't simply treat them as a category: you have to either remove them or fill them in.\n",
    "\n",
    "Imputation describes filling in missing data with estimates based on the rest of the data set. When working with the titanic data set, we set all the missing `Age` values to the median age for the data set. Other simple imputation methods include setting missing values to the mean or most common value (mode). The scikit-learn offers an `Imupter` tool that can automatically carry out these imputations for us. Let's start by loading the `Imputer` and introducing some missing values into the `mpg` data:"
   ]
  },
  {
   "cell_type": "code",
   "execution_count": 53,
   "metadata": {
    "collapsed": true
   },
   "outputs": [],
   "source": [
    "from sklearn.preprocessing import Imputer"
   ]
  },
  {
   "cell_type": "code",
   "execution_count": 54,
   "metadata": {
    "collapsed": false
   },
   "outputs": [
    {
     "data": {
      "text/plain": [
       "name\n",
       "Mazda RX4                21\n",
       "Mazda RX4 Wag            21\n",
       "Datsun 710             None\n",
       "Hornet 4 Drive         21.4\n",
       "Hornet Sportabout      18.7\n",
       "Valiant                18.1\n",
       "Duster 360             14.3\n",
       "Merc 240D              None\n",
       "Merc 230               None\n",
       "Merc 280               19.2\n",
       "Merc 280C              17.8\n",
       "Merc 450SE             16.4\n",
       "Merc 450SL             17.3\n",
       "Merc 450SLC            15.2\n",
       "Cadillac Fleetwood     10.4\n",
       "Lincoln Continental    10.4\n",
       "Chrysler Imperial      14.7\n",
       "Fiat 128               None\n",
       "Honda Civic            None\n",
       "Toyota Corolla         None\n",
       "Toyota Corona          21.5\n",
       "Dodge Challenger       15.5\n",
       "AMC Javelin            15.2\n",
       "Camaro Z28             13.3\n",
       "Pontiac Firebird       19.2\n",
       "Fiat X1-9              None\n",
       "Porsche 914-2          None\n",
       "Lotus Europa           None\n",
       "Ford Pantera L         15.8\n",
       "Ferrari Dino           19.7\n",
       "Maserati Bora            15\n",
       "Volvo 142E             21.4\n",
       "Name: mpg, dtype: object"
      ]
     },
     "execution_count": 54,
     "metadata": {},
     "output_type": "execute_result"
    }
   ],
   "source": [
    "# The following line sets a few mpg values to None\n",
    "mtcars[\"mpg\"] = np.where(mtcars[\"mpg\"]>22, None, mtcars[\"mpg\"])\n",
    "\n",
    "mtcars[\"mpg\"]        # Confirm that missing values were added"
   ]
  },
  {
   "cell_type": "markdown",
   "metadata": {},
   "source": [
    "Now let's use the Imputer fill in missing values based on the mean:"
   ]
  },
  {
   "cell_type": "code",
   "execution_count": 55,
   "metadata": {
    "collapsed": false
   },
   "outputs": [
    {
     "data": {
      "text/html": [
       "<div>\n",
       "<table border=\"1\" class=\"dataframe\">\n",
       "  <thead>\n",
       "    <tr style=\"text-align: right;\">\n",
       "      <th></th>\n",
       "      <th>mpg</th>\n",
       "      <th>cyl</th>\n",
       "      <th>disp</th>\n",
       "      <th>hp</th>\n",
       "      <th>drat</th>\n",
       "      <th>wt</th>\n",
       "      <th>qsec</th>\n",
       "      <th>vs</th>\n",
       "      <th>am</th>\n",
       "      <th>gear</th>\n",
       "      <th>carb</th>\n",
       "    </tr>\n",
       "    <tr>\n",
       "      <th>name</th>\n",
       "      <th></th>\n",
       "      <th></th>\n",
       "      <th></th>\n",
       "      <th></th>\n",
       "      <th></th>\n",
       "      <th></th>\n",
       "      <th></th>\n",
       "      <th></th>\n",
       "      <th></th>\n",
       "      <th></th>\n",
       "      <th></th>\n",
       "    </tr>\n",
       "  </thead>\n",
       "  <tbody>\n",
       "    <tr>\n",
       "      <th>Mazda RX4</th>\n",
       "      <td>21.000000</td>\n",
       "      <td>6.0</td>\n",
       "      <td>160.0</td>\n",
       "      <td>110.0</td>\n",
       "      <td>3.90</td>\n",
       "      <td>2.620</td>\n",
       "      <td>16.46</td>\n",
       "      <td>0.0</td>\n",
       "      <td>1.0</td>\n",
       "      <td>4.0</td>\n",
       "      <td>4.0</td>\n",
       "    </tr>\n",
       "    <tr>\n",
       "      <th>Mazda RX4 Wag</th>\n",
       "      <td>21.000000</td>\n",
       "      <td>6.0</td>\n",
       "      <td>160.0</td>\n",
       "      <td>110.0</td>\n",
       "      <td>3.90</td>\n",
       "      <td>2.875</td>\n",
       "      <td>17.02</td>\n",
       "      <td>0.0</td>\n",
       "      <td>1.0</td>\n",
       "      <td>4.0</td>\n",
       "      <td>4.0</td>\n",
       "    </tr>\n",
       "    <tr>\n",
       "      <th>Datsun 710</th>\n",
       "      <td>17.065217</td>\n",
       "      <td>4.0</td>\n",
       "      <td>108.0</td>\n",
       "      <td>93.0</td>\n",
       "      <td>3.85</td>\n",
       "      <td>2.320</td>\n",
       "      <td>18.61</td>\n",
       "      <td>1.0</td>\n",
       "      <td>1.0</td>\n",
       "      <td>4.0</td>\n",
       "      <td>1.0</td>\n",
       "    </tr>\n",
       "    <tr>\n",
       "      <th>Hornet 4 Drive</th>\n",
       "      <td>21.400000</td>\n",
       "      <td>6.0</td>\n",
       "      <td>258.0</td>\n",
       "      <td>110.0</td>\n",
       "      <td>3.08</td>\n",
       "      <td>3.215</td>\n",
       "      <td>19.44</td>\n",
       "      <td>1.0</td>\n",
       "      <td>0.0</td>\n",
       "      <td>3.0</td>\n",
       "      <td>1.0</td>\n",
       "    </tr>\n",
       "    <tr>\n",
       "      <th>Hornet Sportabout</th>\n",
       "      <td>18.700000</td>\n",
       "      <td>8.0</td>\n",
       "      <td>360.0</td>\n",
       "      <td>175.0</td>\n",
       "      <td>3.15</td>\n",
       "      <td>3.440</td>\n",
       "      <td>17.02</td>\n",
       "      <td>0.0</td>\n",
       "      <td>0.0</td>\n",
       "      <td>3.0</td>\n",
       "      <td>2.0</td>\n",
       "    </tr>\n",
       "    <tr>\n",
       "      <th>Valiant</th>\n",
       "      <td>18.100000</td>\n",
       "      <td>6.0</td>\n",
       "      <td>225.0</td>\n",
       "      <td>105.0</td>\n",
       "      <td>2.76</td>\n",
       "      <td>3.460</td>\n",
       "      <td>20.22</td>\n",
       "      <td>1.0</td>\n",
       "      <td>0.0</td>\n",
       "      <td>3.0</td>\n",
       "      <td>1.0</td>\n",
       "    </tr>\n",
       "    <tr>\n",
       "      <th>Duster 360</th>\n",
       "      <td>14.300000</td>\n",
       "      <td>8.0</td>\n",
       "      <td>360.0</td>\n",
       "      <td>245.0</td>\n",
       "      <td>3.21</td>\n",
       "      <td>3.570</td>\n",
       "      <td>15.84</td>\n",
       "      <td>0.0</td>\n",
       "      <td>0.0</td>\n",
       "      <td>3.0</td>\n",
       "      <td>4.0</td>\n",
       "    </tr>\n",
       "    <tr>\n",
       "      <th>Merc 240D</th>\n",
       "      <td>17.065217</td>\n",
       "      <td>4.0</td>\n",
       "      <td>146.7</td>\n",
       "      <td>62.0</td>\n",
       "      <td>3.69</td>\n",
       "      <td>3.190</td>\n",
       "      <td>20.00</td>\n",
       "      <td>1.0</td>\n",
       "      <td>0.0</td>\n",
       "      <td>4.0</td>\n",
       "      <td>2.0</td>\n",
       "    </tr>\n",
       "    <tr>\n",
       "      <th>Merc 230</th>\n",
       "      <td>17.065217</td>\n",
       "      <td>4.0</td>\n",
       "      <td>140.8</td>\n",
       "      <td>95.0</td>\n",
       "      <td>3.92</td>\n",
       "      <td>3.150</td>\n",
       "      <td>22.90</td>\n",
       "      <td>1.0</td>\n",
       "      <td>0.0</td>\n",
       "      <td>4.0</td>\n",
       "      <td>2.0</td>\n",
       "    </tr>\n",
       "    <tr>\n",
       "      <th>Merc 280</th>\n",
       "      <td>19.200000</td>\n",
       "      <td>6.0</td>\n",
       "      <td>167.6</td>\n",
       "      <td>123.0</td>\n",
       "      <td>3.92</td>\n",
       "      <td>3.440</td>\n",
       "      <td>18.30</td>\n",
       "      <td>1.0</td>\n",
       "      <td>0.0</td>\n",
       "      <td>4.0</td>\n",
       "      <td>4.0</td>\n",
       "    </tr>\n",
       "  </tbody>\n",
       "</table>\n",
       "</div>"
      ],
      "text/plain": [
       "                         mpg  cyl   disp     hp  drat     wt   qsec   vs   am  \\\n",
       "name                                                                            \n",
       "Mazda RX4          21.000000  6.0  160.0  110.0  3.90  2.620  16.46  0.0  1.0   \n",
       "Mazda RX4 Wag      21.000000  6.0  160.0  110.0  3.90  2.875  17.02  0.0  1.0   \n",
       "Datsun 710         17.065217  4.0  108.0   93.0  3.85  2.320  18.61  1.0  1.0   \n",
       "Hornet 4 Drive     21.400000  6.0  258.0  110.0  3.08  3.215  19.44  1.0  0.0   \n",
       "Hornet Sportabout  18.700000  8.0  360.0  175.0  3.15  3.440  17.02  0.0  0.0   \n",
       "Valiant            18.100000  6.0  225.0  105.0  2.76  3.460  20.22  1.0  0.0   \n",
       "Duster 360         14.300000  8.0  360.0  245.0  3.21  3.570  15.84  0.0  0.0   \n",
       "Merc 240D          17.065217  4.0  146.7   62.0  3.69  3.190  20.00  1.0  0.0   \n",
       "Merc 230           17.065217  4.0  140.8   95.0  3.92  3.150  22.90  1.0  0.0   \n",
       "Merc 280           19.200000  6.0  167.6  123.0  3.92  3.440  18.30  1.0  0.0   \n",
       "\n",
       "                   gear  carb  \n",
       "name                           \n",
       "Mazda RX4           4.0   4.0  \n",
       "Mazda RX4 Wag       4.0   4.0  \n",
       "Datsun 710          4.0   1.0  \n",
       "Hornet 4 Drive      3.0   1.0  \n",
       "Hornet Sportabout   3.0   2.0  \n",
       "Valiant             3.0   1.0  \n",
       "Duster 360          3.0   4.0  \n",
       "Merc 240D           4.0   2.0  \n",
       "Merc 230            4.0   2.0  \n",
       "Merc 280            4.0   4.0  "
      ]
     },
     "execution_count": 55,
     "metadata": {},
     "output_type": "execute_result"
    }
   ],
   "source": [
    "imp = Imputer(missing_values='NaN',  # Create imputation model\n",
    "              strategy='mean',       # Use mean imputation\n",
    "              axis=0)                # Impute by column\n",
    "\n",
    "imputed_cars = imp.fit_transform(mtcars)   # Use imputation model to get values\n",
    "\n",
    "imputed_cars = pd.DataFrame(imputed_cars,  # Remake DataFrame with new values\n",
    "                           index=mtcars.index,\n",
    "                           columns = mtcars.columns)\n",
    "\n",
    "imputed_cars.head(10)"
   ]
  },
  {
   "cell_type": "markdown",
   "metadata": {},
   "source": [
    "Currently the `Imputer` only supports the \"`mean`\", \"`median`\" and \"`most_frequent`\" (mode) as strategies for imputation.\n",
    "\n",
    "Other imputation methods include filling in values based on \"similar\" or \"neighboring\" records (K-nearest-neighbors imputation) and filling in values based on regression models. Using predictive models to fill in missing values adds an extra layer of complexity to an analysis and can significantly increase processing time, although it may result in better predictive performance."
   ]
  },
  {
   "cell_type": "markdown",
   "metadata": {},
   "source": [
    "## Wrap Up\n",
    "\n",
    "In the past two lessons, we covered a variety of methods for preparing text data and numeric data. The majority of data you encounter will likely fall in one of these two categories, but there is one other type of data that appears with enough frequency that you will have to deal with it sooner or later: dates."
   ]
  },
  {
   "cell_type": "code",
   "execution_count": null,
   "metadata": {
    "collapsed": true
   },
   "outputs": [],
   "source": []
  }
 ],
 "metadata": {
  "anaconda-cloud": {},
  "kernelspec": {
   "display_name": "Python [default]",
   "language": "python",
   "name": "python3"
  },
  "language_info": {
   "codemirror_mode": {
    "name": "ipython",
    "version": 3
   },
   "file_extension": ".py",
   "mimetype": "text/x-python",
   "name": "python",
   "nbconvert_exporter": "python",
   "pygments_lexer": "ipython3",
   "version": "3.5.2"
  }
 },
 "nbformat": 4,
 "nbformat_minor": 1
}
