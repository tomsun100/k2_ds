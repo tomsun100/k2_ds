{
 "cells": [
  {
   "cell_type": "markdown",
   "metadata": {},
   "source": [
    "## US Gun Deaths Data Set\n",
    "\n",
    "[Original article by FiveThirtyEight about Guns](http://fivethirtyeight.com/features/gun-deaths/)\n",
    "\n",
    "The data set contains cleaned gun-death data from the CDC for 2012-2014."
   ]
  },
  {
   "cell_type": "markdown",
   "metadata": {},
   "source": [
    "### Assignment\n",
    "\n",
    "- Import the csv\n",
    "- Read it into a list\n",
    "- Preview the first 5 entries"
   ]
  },
  {
   "cell_type": "code",
   "execution_count": 2,
   "metadata": {},
   "outputs": [
    {
     "name": "stdout",
     "output_type": "stream",
     "text": [
      "[['', 'year', 'month', 'intent', 'police', 'sex', 'age', 'race', 'hispanic', 'place', 'education'], ['1', '2012', '01', 'Suicide', '0', 'M', '34', 'Asian/Pacific Islander', '100', 'Home', '4'], ['2', '2012', '01', 'Suicide', '0', 'F', '21', 'White', '100', 'Street', '3'], ['3', '2012', '01', 'Suicide', '0', 'M', '60', 'White', '100', 'Other specified', '4'], ['4', '2012', '02', 'Suicide', '0', 'M', '64', 'White', '100', 'Home', '4']]\n"
     ]
    }
   ],
   "source": [
    "import csv\n",
    "with open('guns.csv', 'r') as f:\n",
    "    reader = csv.reader(f)\n",
    "    \n",
    "    us_death_list = list(reader)\n",
    "\n",
    "print(us_death_list[:5])"
   ]
  },
  {
   "cell_type": "markdown",
   "metadata": {},
   "source": [
    "### Assignment\n",
    "\n",
    "- Remove the header row from the list of lists\n",
    "- Save it to a separate list"
   ]
  },
  {
   "cell_type": "code",
   "execution_count": 3,
   "metadata": {},
   "outputs": [
    {
     "name": "stdout",
     "output_type": "stream",
     "text": [
      "['', 'year', 'month', 'intent', 'police', 'sex', 'age', 'race', 'hispanic', 'place', 'education']\n",
      "[['1', '2012', '01', 'Suicide', '0', 'M', '34', 'Asian/Pacific Islander', '100', 'Home', '4'], ['2', '2012', '01', 'Suicide', '0', 'F', '21', 'White', '100', 'Street', '3'], ['3', '2012', '01', 'Suicide', '0', 'M', '60', 'White', '100', 'Other specified', '4'], ['4', '2012', '02', 'Suicide', '0', 'M', '64', 'White', '100', 'Home', '4'], ['5', '2012', '02', 'Suicide', '0', 'M', '31', 'White', '100', 'Other specified', '2']]\n"
     ]
    }
   ],
   "source": [
    "header = us_death_list.pop(0)\n",
    "print(header)\n",
    "print(us_death_list[:5])"
   ]
  },
  {
   "cell_type": "markdown",
   "metadata": {},
   "source": [
    "### Assignment\n",
    "\n",
    "- Count the number of gun deaths by year\n",
    "    - It may help to do a list comprehension to get the years\n",
    "    - Iterate over the years with a dictionary to keep count\n",
    "    \n",
    "    "
   ]
  },
  {
   "cell_type": "code",
   "execution_count": 4,
   "metadata": {},
   "outputs": [
    {
     "name": "stdout",
     "output_type": "stream",
     "text": [
      "{'2012': 33563, '2014': 33599, '2013': 33636}\n"
     ]
    }
   ],
   "source": [
    "death_count_by_year = {}\n",
    "\n",
    "years = list({entry[1] for entry in us_death_list})\n",
    "#Using set comprehension to get the list of unique years and then cast to a list\n",
    "\n",
    "for year in years:\n",
    "    death_count_by_year[year] = 0\n",
    "\n",
    "for us_death in us_death_list:\n",
    "    year = us_death[1]\n",
    "    death_count_by_year[year] += 1\n",
    "    \n",
    "print(death_count_by_year)"
   ]
  },
  {
   "cell_type": "markdown",
   "metadata": {},
   "source": [
    "### Assignment\n",
    "\n",
    "- Import the datetime library\n",
    "- Create a new list called \"dates\" with values from the data (set all the day values to 1)    \n",
    "- Count the number of gun deaths by month and year\n",
    "\n"
   ]
  },
  {
   "cell_type": "code",
   "execution_count": 8,
   "metadata": {},
   "outputs": [
    {
     "name": "stdout",
     "output_type": "stream",
     "text": [
      "{datetime.date(2013, 1, 1): 2864, datetime.date(2012, 10, 1): 2733, datetime.date(2014, 7, 1): 2884, datetime.date(2013, 6, 1): 2920, datetime.date(2014, 2, 1): 2361, datetime.date(2013, 3, 1): 2862, datetime.date(2014, 10, 1): 2865, datetime.date(2013, 10, 1): 2808, datetime.date(2012, 5, 1): 2999, datetime.date(2012, 8, 1): 2954, datetime.date(2013, 9, 1): 2742, datetime.date(2012, 9, 1): 2852, datetime.date(2012, 1, 1): 2758, datetime.date(2013, 8, 1): 2859, datetime.date(2013, 5, 1): 2806, datetime.date(2012, 4, 1): 2795, datetime.date(2014, 1, 1): 2651, datetime.date(2014, 4, 1): 2862, datetime.date(2012, 2, 1): 2357, datetime.date(2012, 12, 1): 2791, datetime.date(2014, 3, 1): 2684, datetime.date(2014, 6, 1): 2931, datetime.date(2012, 11, 1): 2729, datetime.date(2014, 8, 1): 2970, datetime.date(2014, 9, 1): 2914, datetime.date(2014, 11, 1): 2756, datetime.date(2013, 12, 1): 2765, datetime.date(2012, 3, 1): 2743, datetime.date(2014, 12, 1): 2857, datetime.date(2013, 4, 1): 2798, datetime.date(2013, 2, 1): 2375, datetime.date(2013, 7, 1): 3079, datetime.date(2014, 5, 1): 2864, datetime.date(2013, 11, 1): 2758, datetime.date(2012, 7, 1): 3026, datetime.date(2012, 6, 1): 2826}\n"
     ]
    }
   ],
   "source": [
    "import datetime\n",
    "\n",
    "death_count_by_date = {}\n",
    "\n",
    "dates = list({datetime.date(int(entry[1]), int(entry[2]), 1) for entry in us_death_list})\n",
    "\n",
    "for date in dates:\n",
    "    death_count_by_date[date] = 0\n",
    "\n",
    "for us_death in us_death_list:\n",
    "    year = int(us_death[1])\n",
    "    month = int(us_death[2])\n",
    "    day = 1\n",
    "    date = datetime.date(year, month, day)\n",
    "    death_count_by_date[date] += 1\n",
    "\n",
    "print(death_count_by_date)"
   ]
  },
  {
   "cell_type": "markdown",
   "metadata": {},
   "source": [
    "### Assignment\n",
    "\n",
    "- Find the number of gun deaths by Sex\n",
    "- Find the number of gun deaths by Race\n",
    "- How does this compare to the overall population in the US?"
   ]
  },
  {
   "cell_type": "code",
   "execution_count": 16,
   "metadata": {},
   "outputs": [
    {
     "name": "stdout",
     "output_type": "stream",
     "text": [
      "{'M': 86349, 'F': 14449}\n",
      "{'White': 66237, 'Hispanic': 9022, 'Native American/Native Alaskan': 917, 'Black': 23296, 'Asian/Pacific Islander': 1326}\n"
     ]
    }
   ],
   "source": [
    "death_count_by_sex = {}\n",
    "death_count_by_race = {}\n",
    "\n",
    "sexes = list({entry[5] for entry in us_death_list})\n",
    "races = list({entry[7] for entry in us_death_list})\n",
    "\n",
    "for sex in sexes:\n",
    "    death_count_by_sex[sex] = 0\n",
    "\n",
    "for race in races:\n",
    "    death_count_by_race[race] = 0\n",
    "\n",
    "for us_death in us_death_list:\n",
    "    sex = us_death[5]\n",
    "    race = us_death[7]\n",
    "    death_count_by_sex[sex] += 1\n",
    "    death_count_by_race[race] += 1\n",
    "\n",
    "print(death_count_by_sex)\n",
    "print(death_count_by_race)"
   ]
  },
  {
   "cell_type": "markdown",
   "metadata": {},
   "source": [
    "### Assignment\n",
    "\n",
    "- Reuse the data structure counting deaths by race\n",
    "- Use the dictionary below that has the actual population of each race\n",
    "- Compute the rates of gun deaths per race per 100,000 people\n",
    "\n",
    "mapping = {\n",
    "    \"Asian/Pacific Islander\": 15159516 + 674625,\n",
    "    \"Native American/Native Alaskan\": 3739506,\n",
    "    \"Black\": 40250635,\n",
    "    \"Hispanic\": 44618105,\n",
    "    \"White\": 197318956\n",
    "}"
   ]
  },
  {
   "cell_type": "code",
   "execution_count": 28,
   "metadata": {},
   "outputs": [
    {
     "name": "stdout",
     "output_type": "stream",
     "text": [
      "{'White': 4.6356417981453335, 'Hispanic': 12.627161104219914, 'Native American/Native Alaskan': 8.717729026240365, 'Black': 48.471284987180944, 'Asian/Pacific Islander': 3.530346230970155}\n"
     ]
    }
   ],
   "source": [
    "mapping = {\n",
    "    \"Asian/Pacific Islander\": 15159516 + 674625,\n",
    "    \"Native American/Native Alaskan\": 3739506,\n",
    "    \"Black\": 40250635,\n",
    "    \"Hispanic\": 44618105,\n",
    "    \"White\": 197318956\n",
    "}\n",
    "\n",
    "death_by_race_by_thousand = {}\n",
    "\n",
    "for race, count in death_count_by_race.items():\n",
    "    count = death_count_by_race[race]\n",
    "    pop = mapping[race]\n",
    "    fraction = count / pop * 100000\n",
    "    death_by_race_by_thousand[race] = fraction\n",
    "    \n",
    "print(death_by_race_by_thousand)"
   ]
  },
  {
   "cell_type": "markdown",
   "metadata": {},
   "source": [
    "### Assignment\n",
    "\n",
    "You may not know this, but over half of all gun deaths are suicide.\n",
    "\n",
    "- Redo the computation of rates of gun deaths per race per 100,000 people\n",
    "- This time only count those that are \"Homicide\"\n",
    "- How are these different than the previous calculation?\n"
   ]
  },
  {
   "cell_type": "code",
   "execution_count": 29,
   "metadata": {},
   "outputs": [
    {
     "name": "stdout",
     "output_type": "stream",
     "text": [
      "{'White': 4.6356417981453335, 'Hispanic': 12.627161104219914, 'Native American/Native Alaskan': 8.717729026240365, 'Black': 48.471284987180944, 'Asian/Pacific Islander': 3.530346230970155}\n"
     ]
    }
   ],
   "source": [
    "homicides = list(filter(lambda entry: entry[3]=='Homicide', us_death_list))\n",
    "\n",
    "death_count_by_race = {}\n",
    "\n",
    "for race in races:\n",
    "    death_count_by_race[race] = 0\n",
    "\n",
    "for homicide in homicides:\n",
    "    race = homicide[7]\n",
    "    death_count_by_race[race] += 1\n",
    "    \n",
    "mapping = {\n",
    "    \"Asian/Pacific Islander\": 15159516 + 674625,\n",
    "    \"Native American/Native Alaskan\": 3739506,\n",
    "    \"Black\": 40250635,\n",
    "    \"Hispanic\": 44618105,\n",
    "    \"White\": 197318956\n",
    "}\n",
    "\n",
    "death_by_race_by_thousand = {}\n",
    "\n",
    "for race, count in death_count_by_race.items():\n",
    "    count = death_count_by_race[race]\n",
    "    pop = mapping[race]\n",
    "    fraction = count / pop * 100000\n",
    "    death_by_race_by_thousand[race] = fraction\n",
    "\n",
    "print(death_by_race_by_thousand)"
   ]
  },
  {
   "cell_type": "code",
   "execution_count": null,
   "metadata": {},
   "outputs": [],
   "source": []
  }
 ],
 "metadata": {
  "anaconda-cloud": {},
  "kernelspec": {
   "display_name": "Python 3",
   "language": "python",
   "name": "python3"
  },
  "language_info": {
   "codemirror_mode": {
    "name": "ipython",
    "version": 3
   },
   "file_extension": ".py",
   "mimetype": "text/x-python",
   "name": "python",
   "nbconvert_exporter": "python",
   "pygments_lexer": "ipython3",
   "version": "3.7.0"
  }
 },
 "nbformat": 4,
 "nbformat_minor": 1
}
